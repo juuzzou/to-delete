{
 "cells": [
  {
   "cell_type": "code",
   "id": "initial_id",
   "metadata": {
    "collapsed": true,
    "ExecuteTime": {
     "end_time": "2025-03-05T07:12:55.898472Z",
     "start_time": "2025-03-05T07:12:55.889096Z"
    }
   },
   "source": [
    "import statistics\n",
    "from openpyxl import load_workbook\n",
    "from openpyxl.styles import Border, Side\n",
    "from collections import Counter\n",
    "from math import sqrt, ceil"
   ],
   "outputs": [],
   "execution_count": 87
  },
  {
   "metadata": {
    "ExecuteTime": {
     "end_time": "2025-03-05T07:12:55.976275Z",
     "start_time": "2025-03-05T07:12:55.924704Z"
    }
   },
   "cell_type": "code",
   "source": [
    "wb = load_workbook('data\\\\someData.xlsx')\n",
    "ws = wb.active"
   ],
   "id": "3ae402d1a6ff2419",
   "outputs": [],
   "execution_count": 88
  },
  {
   "metadata": {
    "ExecuteTime": {
     "end_time": "2025-03-05T07:12:56.010052Z",
     "start_time": "2025-03-05T07:12:56.001776Z"
    }
   },
   "cell_type": "code",
   "source": [
    "watering_values = []\n",
    "for row in ws.iter_rows(min_row=2, min_col=3, max_col=3, values_only=True):\n",
    "    watering = row[0]\n",
    "    if isinstance(watering, (int, float)):\n",
    "        watering_values.append(int(watering))"
   ],
   "id": "5478fe7eedeab56",
   "outputs": [],
   "execution_count": 89
  },
  {
   "metadata": {
    "ExecuteTime": {
     "end_time": "2025-03-05T07:12:56.077920Z",
     "start_time": "2025-03-05T07:12:56.070517Z"
    }
   },
   "cell_type": "code",
   "source": "counts = Counter(watering_values)",
   "id": "e6f23d0570a4e3f4",
   "outputs": [],
   "execution_count": 90
  },
  {
   "metadata": {
    "ExecuteTime": {
     "end_time": "2025-03-05T07:12:56.131933Z",
     "start_time": "2025-03-05T07:12:56.122391Z"
    }
   },
   "cell_type": "code",
   "source": "new_ws = wb.create_sheet(title=\"Discrete Series\")",
   "id": "7fd9eda06bb965f1",
   "outputs": [],
   "execution_count": 91
  },
  {
   "metadata": {
    "ExecuteTime": {
     "end_time": "2025-03-05T07:12:56.185362Z",
     "start_time": "2025-03-05T07:12:56.175593Z"
    }
   },
   "cell_type": "code",
   "source": "new_ws.append([\"Watering\", \"Number of Farms\", \"xf\"])",
   "id": "36caaab8c8b096f9",
   "outputs": [],
   "execution_count": 92
  },
  {
   "metadata": {
    "ExecuteTime": {
     "end_time": "2025-03-05T07:12:56.214661Z",
     "start_time": "2025-03-05T07:12:56.206906Z"
    }
   },
   "cell_type": "code",
   "source": [
    "total_farms = 0\n",
    "total_xf = 0"
   ],
   "id": "b3afdda0cf898cb3",
   "outputs": [],
   "execution_count": 93
  },
  {
   "metadata": {
    "ExecuteTime": {
     "end_time": "2025-03-05T07:12:56.245255Z",
     "start_time": "2025-03-05T07:12:56.236670Z"
    }
   },
   "cell_type": "code",
   "source": [
    "for watering in range(2, 11):\n",
    "    num_farms = counts.get(watering, 0)\n",
    "    xf = watering * num_farms\n",
    "    new_ws.append([watering, num_farms, xf])\n",
    "    \n",
    "    total_farms += num_farms\n",
    "    total_xf += xf"
   ],
   "id": "ae2d4b3231a97f99",
   "outputs": [],
   "execution_count": 94
  },
  {
   "metadata": {
    "ExecuteTime": {
     "end_time": "2025-03-05T07:12:56.271201Z",
     "start_time": "2025-03-05T07:12:56.265568Z"
    }
   },
   "cell_type": "code",
   "source": "new_ws.append([\"Total\", total_farms, total_xf])",
   "id": "f09faba7524c7f88",
   "outputs": [],
   "execution_count": 95
  },
  {
   "metadata": {
    "ExecuteTime": {
     "end_time": "2025-03-05T07:12:56.312366Z",
     "start_time": "2025-03-05T07:12:56.304608Z"
    }
   },
   "cell_type": "code",
   "source": "new_ws.append([])",
   "id": "e1fe4c74b43224e9",
   "outputs": [],
   "execution_count": 96
  },
  {
   "metadata": {
    "ExecuteTime": {
     "end_time": "2025-03-05T07:12:56.344965Z",
     "start_time": "2025-03-05T07:12:56.336247Z"
    }
   },
   "cell_type": "code",
   "source": [
    "median = statistics.median(watering_values)\n",
    "mean = total_xf / total_farms \n",
    "mode = statistics.mode(watering_values)\n",
    "new_ws.append(['mode', 'median', 'mean'])\n",
    "new_ws.append([mode, median, mean])"
   ],
   "id": "de2139edfe41f517",
   "outputs": [],
   "execution_count": 97
  },
  {
   "metadata": {
    "ExecuteTime": {
     "end_time": "2025-03-05T07:12:56.374352Z",
     "start_time": "2025-03-05T07:12:56.366532Z"
    }
   },
   "cell_type": "code",
   "source": [
    "thin_border = Border(\n",
    "    left=Side(style='thin'),\n",
    "    right=Side(style='thin'),\n",
    "    top=Side(style='thin'),\n",
    "    bottom=Side(style='thin')\n",
    ")"
   ],
   "id": "4d4638de0ca57e1",
   "outputs": [],
   "execution_count": 98
  },
  {
   "metadata": {
    "ExecuteTime": {
     "end_time": "2025-03-05T07:12:56.405994Z",
     "start_time": "2025-03-05T07:12:56.391717Z"
    }
   },
   "cell_type": "code",
   "source": [
    "for row in new_ws.iter_rows(min_row=1, max_row=11, min_col=1, max_col=3):\n",
    "    for cell in row:\n",
    "        cell.border = thin_border\n",
    "\n",
    "for row in new_ws.iter_rows(min_row=13, max_row=14, min_col=1, max_col=3):\n",
    "    for cell in row:\n",
    "        cell.border = thin_border"
   ],
   "id": "4415c4741e4ca6c3",
   "outputs": [],
   "execution_count": 99
  },
  {
   "metadata": {
    "ExecuteTime": {
     "end_time": "2025-03-05T07:12:56.433615Z",
     "start_time": "2025-03-05T07:12:56.424386Z"
    }
   },
   "cell_type": "code",
   "source": [
    "new_ws_2 = wb.create_sheet(title=\"Rank-size Series\")\n",
    "new_ws_2.append([\"Number\", \"Cabbage yield, t/ha\"])"
   ],
   "id": "7d455d774d29a61a",
   "outputs": [],
   "execution_count": 100
  },
  {
   "metadata": {
    "ExecuteTime": {
     "end_time": "2025-03-05T07:12:56.464088Z",
     "start_time": "2025-03-05T07:12:56.451338Z"
    }
   },
   "cell_type": "code",
   "source": [
    "data = []\n",
    "for row in ws.iter_rows(min_row=2, min_col=1, max_col=2, values_only=True):\n",
    "    number = row[0]\n",
    "    crops = row[1]\n",
    "    data.append([number, crops])"
   ],
   "id": "a9787ca940f07050",
   "outputs": [],
   "execution_count": 101
  },
  {
   "metadata": {
    "ExecuteTime": {
     "end_time": "2025-03-05T07:12:56.494009Z",
     "start_time": "2025-03-05T07:12:56.486123Z"
    }
   },
   "cell_type": "code",
   "source": [
    "sorted_data = sorted(data, key=lambda x: x[1])\n",
    "\n",
    "for row in sorted_data:\n",
    "    new_ws_2.append(row)"
   ],
   "id": "a9de335d6fe99f85",
   "outputs": [],
   "execution_count": 102
  },
  {
   "metadata": {
    "ExecuteTime": {
     "end_time": "2025-03-05T07:12:56.522978Z",
     "start_time": "2025-03-05T07:12:56.517019Z"
    }
   },
   "cell_type": "code",
   "source": "sumCrops = sum(row[1] for row in sorted_data if row[1] is not None) ",
   "id": "6b231894924808f8",
   "outputs": [],
   "execution_count": 103
  },
  {
   "metadata": {
    "ExecuteTime": {
     "end_time": "2025-03-05T07:12:56.551645Z",
     "start_time": "2025-03-05T07:12:56.545754Z"
    }
   },
   "cell_type": "code",
   "source": "new_ws_2.append([\"Sum\", sumCrops])",
   "id": "d4dfef54b4878386",
   "outputs": [],
   "execution_count": 104
  },
  {
   "metadata": {
    "ExecuteTime": {
     "end_time": "2025-03-05T07:12:56.603687Z",
     "start_time": "2025-03-05T07:12:56.594771Z"
    }
   },
   "cell_type": "code",
   "source": [
    "new_ws_2.append([])\n",
    "new_ws_2.append([])"
   ],
   "id": "2b260cbc0a030049",
   "outputs": [],
   "execution_count": 105
  },
  {
   "metadata": {
    "ExecuteTime": {
     "end_time": "2025-03-05T07:12:56.730335Z",
     "start_time": "2025-03-05T07:12:56.719881Z"
    }
   },
   "cell_type": "code",
   "source": [
    "medianNew = statistics.median(row[1] for row in sorted_data if row[1] is not None)\n",
    "meanNew = statistics.mean(row[1] for row in sorted_data if row[1] is not None)\n",
    "modeNew = statistics.mode(row[1] for row in sorted_data if row[1] is not None)\n",
    "new_ws_2.append(['mode', 'median', 'mean'])\n",
    "new_ws_2.append([modeNew, medianNew, meanNew])"
   ],
   "id": "2eee452995f67c38",
   "outputs": [],
   "execution_count": 106
  },
  {
   "metadata": {
    "ExecuteTime": {
     "end_time": "2025-03-05T07:12:56.782737Z",
     "start_time": "2025-03-05T07:12:56.772810Z"
    }
   },
   "cell_type": "code",
   "source": [
    "for row in new_ws_2.iter_rows(min_row=1, max_row=32, min_col=1, max_col=2):\n",
    "    for cell in row:\n",
    "        cell.border = thin_border\n",
    "\n",
    "for row in new_ws_2.iter_rows(min_row=35, max_row=36, min_col=1, max_col=3):\n",
    "    for cell in row:\n",
    "        cell.border = thin_border"
   ],
   "id": "568b78e2558c44a3",
   "outputs": [],
   "execution_count": 107
  },
  {
   "metadata": {
    "ExecuteTime": {
     "end_time": "2025-03-05T07:12:56.801827Z",
     "start_time": "2025-03-05T07:12:56.792215Z"
    }
   },
   "cell_type": "code",
   "source": [
    "new_ws_3 = wb.create_sheet(title=\"TBD Series\")\n",
    "new_ws_3.append([\"Interval\", \"Lower Bound\", \"Upper Bound\", \"Number of Farms\"])"
   ],
   "id": "3269958b95b8dc84",
   "outputs": [],
   "execution_count": 108
  },
  {
   "metadata": {
    "ExecuteTime": {
     "end_time": "2025-03-05T07:12:56.830317Z",
     "start_time": "2025-03-05T07:12:56.821330Z"
    }
   },
   "cell_type": "code",
   "source": [
    "sqrtTotalFarms = ceil(sqrt(total_farms))\n",
    "\n",
    "column_letter = 'B'\n",
    "cells = ws[column_letter] \n",
    "values = []\n",
    "for cell in cells:\n",
    "    if cell.row == 1:\n",
    "        continue\n",
    "    if isinstance(cell.value, (int, float)):\n",
    "        values.append(cell.value)\n",
    "\n",
    "maxCrop = max(values)\n",
    "minCrop = min(values)\n",
    "\n",
    "hStep = (maxCrop - minCrop) / sqrtTotalFarms"
   ],
   "id": "b2413763b0c89fce",
   "outputs": [],
   "execution_count": 109
  },
  {
   "metadata": {
    "ExecuteTime": {
     "end_time": "2025-03-05T07:12:56.864023Z",
     "start_time": "2025-03-05T07:12:56.852412Z"
    }
   },
   "cell_type": "code",
   "source": [
    "temp = 1\n",
    "lBound = minCrop\n",
    "freq = 0\n",
    "tempSumForTable = 0\n",
    "for row in new_ws_3.iter_rows(min_row=1, max_row=sqrtTotalFarms, min_col=1, max_col=4, values_only=True):\n",
    "    uBound = lBound + hStep\n",
    "    if temp == 6:\n",
    "        count = sum(lBound <= val <= ceil(uBound) for val in values)\n",
    "    else:\n",
    "        count = sum(lBound <= val <= uBound for val in values)\n",
    "    avg = (lBound + uBound) / 2\n",
    "    freq += count\n",
    "    tempSumForTable += (count * avg)\n",
    "    new_ws_3.append([temp, lBound, uBound, count, '', avg, avg*count, freq])\n",
    "    lBound = uBound\n",
    "    temp += 1"
   ],
   "id": "cb4243153191a5be",
   "outputs": [],
   "execution_count": 110
  },
  {
   "metadata": {
    "ExecuteTime": {
     "end_time": "2025-03-05T07:12:56.893982Z",
     "start_time": "2025-03-05T07:12:56.882625Z"
    }
   },
   "cell_type": "code",
   "source": [
    "new_ws_3.append([])\n",
    "new_ws_3.append(['min', 'max', 'step', 'sqrt of total farms'])\n",
    "new_ws_3.append([minCrop, maxCrop, hStep, sqrtTotalFarms])\n",
    "new_ws_3.append([])"
   ],
   "id": "549caf2cb37a11fe",
   "outputs": [],
   "execution_count": 111
  },
  {
   "metadata": {
    "ExecuteTime": {
     "end_time": "2025-03-05T07:12:56.926580Z",
     "start_time": "2025-03-05T07:12:56.919774Z"
    }
   },
   "cell_type": "code",
   "source": [
    "new_ws_3['F1'] = 'Average'\n",
    "new_ws_3['G1'] = 'Multiplication'\n",
    "new_ws_3['H1'] = 'Summaries'\n"
   ],
   "id": "905af80e739702d9",
   "outputs": [],
   "execution_count": 112
  },
  {
   "metadata": {
    "ExecuteTime": {
     "end_time": "2025-03-05T07:12:56.962859Z",
     "start_time": "2025-03-05T07:12:56.949493Z"
    }
   },
   "cell_type": "code",
   "source": [
    "interval_data = []\n",
    "for row in new_ws_3.iter_rows(min_row=2, values_only=True):\n",
    "    if row[0] is None or not isinstance(row[0], int):\n",
    "        break\n",
    "    interval_data.append(row)\n",
    "    \n",
    "counts = [row[3] for row in interval_data]\n",
    "max_count = max(counts)\n",
    "mode_index = counts.index(max_count)\n",
    "mode_lower = interval_data[mode_index][1]\n",
    "mode_upper = interval_data[mode_index][2]\n",
    "modeTBD = f\"{mode_lower} - {mode_upper}\"\n",
    "\n",
    "median_pos = total_farms / 2\n",
    "cumulative_freqs = [row[7] for row in interval_data]\n",
    "\n",
    "for i, cf in enumerate(cumulative_freqs):\n",
    "    if cf >= median_pos:\n",
    "        median_class = interval_data[i]\n",
    "        break\n",
    "\n",
    "L = median_class[1]\n",
    "h = hStep\n",
    "F_prev = cumulative_freqs[i-1] if i > 0 else 0\n",
    "f = median_class[3]\n",
    "\n",
    "median_value = L + ((median_pos - F_prev) / f) * h\n",
    "medianTBD = median_value\n",
    "meanTBD = tempSumForTable / total_farms"
   ],
   "id": "38dddbdb3bb8ada5",
   "outputs": [],
   "execution_count": 113
  },
  {
   "metadata": {
    "ExecuteTime": {
     "end_time": "2025-03-05T07:12:57.002477Z",
     "start_time": "2025-03-05T07:12:56.994857Z"
    }
   },
   "cell_type": "code",
   "source": [
    "new_ws_3['F9'] = 'Mode'\n",
    "new_ws_3['G9'] = 'Mean'\n",
    "new_ws_3['H9'] = 'Median'\n",
    "new_ws_3['F10'] = modeTBD\n",
    "new_ws_3['G10'] = meanTBD\n",
    "new_ws_3['H10'] = medianTBD"
   ],
   "id": "50d9b100b070e541",
   "outputs": [],
   "execution_count": 114
  },
  {
   "metadata": {
    "ExecuteTime": {
     "end_time": "2025-03-05T07:12:57.052043Z",
     "start_time": "2025-03-05T07:12:57.033209Z"
    }
   },
   "cell_type": "code",
   "source": [
    "for row in new_ws_3.iter_rows(min_row=1, max_row=7, min_col=1, max_col=4):\n",
    "    for cell in row:\n",
    "        cell.border = thin_border\n",
    "        \n",
    "for row in new_ws_3.iter_rows(min_row=1, max_row=7, min_col=6, max_col=8):\n",
    "    for cell in row:\n",
    "        cell.border = thin_border\n",
    "\n",
    "for row in new_ws_3.iter_rows(min_row=9, max_row=10, min_col=1, max_col=4):\n",
    "    for cell in row:\n",
    "        cell.border = thin_border\n",
    "\n",
    "for row in new_ws_3.iter_rows(min_row=9, max_row=10, min_col=6, max_col=8):\n",
    "    for cell in row:\n",
    "        cell.border = thin_border"
   ],
   "id": "299c3f380941200d",
   "outputs": [],
   "execution_count": 115
  },
  {
   "metadata": {
    "ExecuteTime": {
     "end_time": "2025-03-05T07:12:57.197102Z",
     "start_time": "2025-03-05T07:12:57.077932Z"
    }
   },
   "cell_type": "code",
   "source": "wb.save('output.xlsx')",
   "id": "2a2856ae94de984b",
   "outputs": [],
   "execution_count": 116
  }
 ],
 "metadata": {
  "kernelspec": {
   "display_name": "Python 3",
   "language": "python",
   "name": "python3"
  },
  "language_info": {
   "codemirror_mode": {
    "name": "ipython",
    "version": 2
   },
   "file_extension": ".py",
   "mimetype": "text/x-python",
   "name": "python",
   "nbconvert_exporter": "python",
   "pygments_lexer": "ipython2",
   "version": "2.7.6"
  }
 },
 "nbformat": 4,
 "nbformat_minor": 5
}
